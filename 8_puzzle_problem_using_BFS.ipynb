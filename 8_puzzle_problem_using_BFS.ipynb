{
  "nbformat": 4,
  "nbformat_minor": 0,
  "metadata": {
    "colab": {
      "provenance": []
    },
    "kernelspec": {
      "name": "python3",
      "display_name": "Python 3"
    },
    "language_info": {
      "name": "python"
    }
  },
  "cells": [
    {
      "cell_type": "code",
      "source": [
        "#8 puzzle problem using bfs\n",
        "from collections import deque\n",
        "\n",
        "class PuzzleState:\n",
        "    def __init__(self, board, zero_position, path=[]):\n",
        "        self.board = board\n",
        "        self.zero_position = zero_position\n",
        "        self.path = path\n",
        "\n",
        "    def is_goal(self):\n",
        "        return self.board == [1, 2, 3, 4, 5, 6, 7, 8, 0]\n",
        "\n",
        "    def get_possible_moves(self):\n",
        "        moves = []\n",
        "        row, col = self.zero_position\n",
        "        directions = [(0, 1), (1, 0), (0, -1), (-1, 0)]  # Right, Down, Left, Up\n",
        "\n",
        "        for dr, dc in directions:\n",
        "            new_row, new_col = row + dr, col + dc\n",
        "            if 0 <= new_row < 3 and 0 <= new_col < 3:\n",
        "                new_board = self.board[:]\n",
        "                # Swap zero with the adjacent tile\n",
        "                new_board[row * 3 + col], new_board[new_row * 3 + new_col] = new_board[new_row * 3 + new_col], new_board[row * 3 + col]\n",
        "                moves.append(PuzzleState(new_board, (new_row, new_col), self.path + [new_board]))\n",
        "\n",
        "        return moves\n",
        "\n",
        "def bfs(initial_state):\n",
        "    queue = deque([initial_state])\n",
        "    visited = set()\n",
        "\n",
        "    while queue:\n",
        "        current_state = queue.popleft()\n",
        "\n",
        "        # Show the current board\n",
        "        print(\"Current Board State:\")\n",
        "        print_board(current_state.board)\n",
        "        print()\n",
        "\n",
        "        if current_state.is_goal():\n",
        "            return current_state.path\n",
        "\n",
        "        visited.add(tuple(current_state.board))\n",
        "\n",
        "        for next_state in current_state.get_possible_moves():\n",
        "            if tuple(next_state.board) not in visited:\n",
        "                queue.append(next_state)\n",
        "\n",
        "    return None\n",
        "\n",
        "def print_board(board):\n",
        "    for i in range(3):\n",
        "        print(board[i * 3:i * 3 + 3])\n",
        "\n",
        "def main():\n",
        "    print(\"Enter the initial state of the 8-puzzle (use 0 for the blank tile, e.g., '1 2 3 4 5 6 7 8 0'): \")\n",
        "    user_input = input()\n",
        "    initial_board = list(map(int, user_input.split()))\n",
        "\n",
        "    if len(initial_board) != 9 or set(initial_board) != set(range(9)):\n",
        "        print(\"Invalid input! Please enter 9 numbers from 0 to 8.\")\n",
        "        return\n",
        "\n",
        "    zero_position = initial_board.index(0)\n",
        "    initial_state = PuzzleState(initial_board, (zero_position // 3, zero_position % 3))\n",
        "\n",
        "    solution_path = bfs(initial_state)\n",
        "\n",
        "    if solution_path is None:\n",
        "        print(\"No solution found.\")\n",
        "    else:\n",
        "        print(\"Solution found in\", len(solution_path), \"steps.\")\n",
        "        for step in solution_path:\n",
        "            print_board(step)\n",
        "            print()\n",
        "\n",
        "if __name__ == \"__main__\":\n",
        "    main()\n",
        "\n",
        "print(\"Sparsha Srinath Kadaba - 1BM22CS287\")"
      ],
      "metadata": {
        "colab": {
          "base_uri": "https://localhost:8080/"
        },
        "id": "2TLnhmwHi2TP",
        "outputId": "291992d3-8f5d-489c-8965-c0d4bda5dd51"
      },
      "execution_count": 3,
      "outputs": [
        {
          "output_type": "stream",
          "name": "stdout",
          "text": [
            "Enter the initial state of the 8-puzzle (use 0 for the blank tile, e.g., '1 2 3 4 5 6 7 8 0'): \n",
            "1 2 3 4 5 6 7 0 8\n",
            "Current Board State:\n",
            "[1, 2, 3]\n",
            "[4, 5, 6]\n",
            "[7, 0, 8]\n",
            "\n",
            "Current Board State:\n",
            "[1, 2, 3]\n",
            "[4, 5, 6]\n",
            "[7, 8, 0]\n",
            "\n",
            "Solution found in 1 steps.\n",
            "[1, 2, 3]\n",
            "[4, 5, 6]\n",
            "[7, 8, 0]\n",
            "\n",
            "Sparsha Srinath Kadaba - 1BM22CS287\n"
          ]
        }
      ]
    }
  ]
}